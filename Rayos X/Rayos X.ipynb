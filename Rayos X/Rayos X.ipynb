{
 "cells": [
  {
   "cell_type": "markdown",
   "id": "56944dfd",
   "metadata": {},
   "source": [
    "Librerías"
   ]
  },
  {
   "cell_type": "code",
   "execution_count": 15,
   "id": "0a0779d9",
   "metadata": {},
   "outputs": [],
   "source": [
    "import numpy as np\n",
    "import matplotlib.pyplot as plt\n",
    "from scipy.optimize import curve_fit\n",
    "import pandas as pd\n",
    "import os\n",
    "import matplotlib.ticker as ti\n",
    "from itertools import islice\n",
    "from scipy.special import wofz\n",
    "from scipy.optimize import curve_fit"
   ]
  },
  {
   "cell_type": "markdown",
   "id": "49ba85f2",
   "metadata": {},
   "source": [
    "**Actividad 1**"
   ]
  },
  {
   "cell_type": "markdown",
   "id": "267f9b6c",
   "metadata": {},
   "source": [
    "Importación de datos"
   ]
  },
  {
   "cell_type": "code",
   "execution_count": 16,
   "id": "12576c81",
   "metadata": {},
   "outputs": [
    {
     "data": {
      "text/html": [
       "<div>\n",
       "<style scoped>\n",
       "    .dataframe tbody tr th:only-of-type {\n",
       "        vertical-align: middle;\n",
       "    }\n",
       "\n",
       "    .dataframe tbody tr th {\n",
       "        vertical-align: top;\n",
       "    }\n",
       "\n",
       "    .dataframe thead th {\n",
       "        text-align: right;\n",
       "    }\n",
       "</style>\n",
       "<table border=\"1\" class=\"dataframe\">\n",
       "  <thead>\n",
       "    <tr style=\"text-align: right;\">\n",
       "      <th></th>\n",
       "      <th>theta_deg</th>\n",
       "      <th>intensity</th>\n",
       "    </tr>\n",
       "  </thead>\n",
       "  <tbody>\n",
       "    <tr>\n",
       "      <th>0</th>\n",
       "      <td>15.0</td>\n",
       "      <td>389.0</td>\n",
       "    </tr>\n",
       "    <tr>\n",
       "      <th>1</th>\n",
       "      <td>15.1</td>\n",
       "      <td>384.0</td>\n",
       "    </tr>\n",
       "    <tr>\n",
       "      <th>2</th>\n",
       "      <td>15.2</td>\n",
       "      <td>389.0</td>\n",
       "    </tr>\n",
       "    <tr>\n",
       "      <th>3</th>\n",
       "      <td>15.3</td>\n",
       "      <td>370.0</td>\n",
       "    </tr>\n",
       "    <tr>\n",
       "      <th>4</th>\n",
       "      <td>15.4</td>\n",
       "      <td>387.0</td>\n",
       "    </tr>\n",
       "  </tbody>\n",
       "</table>\n",
       "</div>"
      ],
      "text/plain": [
       "   theta_deg  intensity\n",
       "0       15.0      389.0\n",
       "1       15.1      384.0\n",
       "2       15.2      389.0\n",
       "3       15.3      370.0\n",
       "4       15.4      387.0"
      ]
     },
     "execution_count": 16,
     "metadata": {},
     "output_type": "execute_result"
    }
   ],
   "source": [
    "df = pd.read_csv(\"actividad 1.csv\", delimiter=';', skiprows=2)\n",
    "df.dropna(how='any', inplace=True)\n",
    "df.columns = [\"theta_deg\", \"intensity\"]\n",
    "df[\"theta_deg\"] = df[\"theta_deg\"].str.replace(\",\", \".\").astype(float)\n",
    "df[\"intensity\"] = df[\"intensity\"].astype(float)\n",
    "df.head()\n"
   ]
  },
  {
   "cell_type": "markdown",
   "id": "ec55c32e",
   "metadata": {},
   "source": [
    "Ajuste"
   ]
  },
  {
   "cell_type": "code",
   "execution_count": 17,
   "id": "56110612",
   "metadata": {},
   "outputs": [
    {
     "ename": "NameError",
     "evalue": "name 'data' is not defined",
     "output_type": "error",
     "traceback": [
      "\u001b[1;31m---------------------------------------------------------------------------\u001b[0m",
      "\u001b[1;31mNameError\u001b[0m                                 Traceback (most recent call last)",
      "Cell \u001b[1;32mIn[17], line 15\u001b[0m\n\u001b[0;32m     12\u001b[0m     \u001b[38;5;28;01mreturn\u001b[39;00m A \u001b[38;5;241m*\u001b[39m np\u001b[38;5;241m.\u001b[39mreal(wofz(z))\n\u001b[0;32m     14\u001b[0m \u001b[38;5;66;03m#Este x es en angulo\u001b[39;00m\n\u001b[1;32m---> 15\u001b[0m xv \u001b[38;5;241m=\u001b[39m [i[\u001b[38;5;241m0\u001b[39m] \u001b[38;5;28;01mfor\u001b[39;00m i \u001b[38;5;129;01min\u001b[39;00m \u001b[43mdata\u001b[49m \u001b[38;5;28;01mif\u001b[39;00m \u001b[38;5;241m41.7\u001b[39m \u001b[38;5;241m<\u001b[39m\u001b[38;5;241m=\u001b[39m i[\u001b[38;5;241m0\u001b[39m] \u001b[38;5;241m<\u001b[39m\u001b[38;5;241m=\u001b[39m \u001b[38;5;241m42.1\u001b[39m]\n\u001b[0;32m     16\u001b[0m xl \u001b[38;5;241m=\u001b[39m [i[\u001b[38;5;241m0\u001b[39m] \u001b[38;5;28;01mfor\u001b[39;00m i \u001b[38;5;129;01min\u001b[39;00m data \u001b[38;5;28;01mif\u001b[39;00m \u001b[38;5;241m41.5\u001b[39m \u001b[38;5;241m<\u001b[39m\u001b[38;5;241m=\u001b[39m i[\u001b[38;5;241m0\u001b[39m] \u001b[38;5;241m<\u001b[39m\u001b[38;5;241m=\u001b[39m \u001b[38;5;241m42.2\u001b[39m]\n\u001b[0;32m     18\u001b[0m \u001b[38;5;66;03m#Nuevo x en longitud de onda\u001b[39;00m\n",
      "\u001b[1;31mNameError\u001b[0m: name 'data' is not defined"
     ]
    }
   ],
   "source": [
    "# Datos\n",
    "x = df[\"theta_deg\"].values\n",
    "y = df[\"intensity\"].values\n",
    "y_err = np.sqrt(y)  # Error Poissoniano\n",
    "\n",
    "# Funciones de ajuste\n",
    "def lorentzian(x,A,x0,gamma):\n",
    "    return A / (1 + ((x-x0)/gamma)**2)\n",
    "\n",
    "def voigt_profile(x, A, x0, sigma, gamma):\n",
    "    z = (x - x0 + 1j * gamma) / (sigma * np.sqrt(2))\n",
    "    return A * np.real(wofz(z))\n",
    "\n",
    "#Este x es en angulo\n",
    "xv = [i[0] for i in data if 41.7 <= i[0] <= 42.1]\n",
    "xl = [i[0] for i in data if 41.5 <= i[0] <= 42.2]\n",
    "\n",
    "#Nuevo x en longitud de onda\n",
    "xn = [2*d*np.sin(np.radians(k)) for k in xv]\n",
    "xnl = [2*d*np.sin(np.radians(k)) for k in xl]\n",
    "\n",
    "y = [i[1] for i in data if 41.7 <= i[0] <= 42.1 ]\n",
    "yl = [i[1] for i in data if 41.5 <= i[0] <= 42.2]\n",
    "\n",
    "xerr = np.full(len(xv),0.1)\n",
    "\n",
    "xerrn = [np.abs(d*np.cos(np.radians(k))*np.radians(0.1)) for k in xv]\n",
    "xerrnl = [np.abs(d*np.cos(np.radians(k))*np.radians(0.1)) for k in xl]\n",
    "\n",
    "yerr = np.full(len(y),1)\n",
    "yerrl = np.full(len(yl),1)\n",
    "\n",
    "guess = [max(yl),2.68e-10,(max(xnl)-min(xnl))/10]\n",
    "\n",
    "#lorentzian\n",
    "\n",
    "param, cov = curve_fit(lorentzian,xnl,yl,p0=guess,sigma=yerrl,absolute_sigma=True)\n",
    "\n",
    "covn = np.sqrt(np.diagonal(cov))\n",
    "\n",
    "x_ = np.linspace(xnl[0]-xerrnl[0],xnl[-1]+xerrnl[-1],200)\n",
    "y_ = lorentzian(x_, param[0], param[1], param[2])\n",
    "\n",
    "#Voigt profile\n",
    "\n",
    "guessv = [max(y),2.68e-10,(max(xn)-min(xn))/10,(max(xn)-min(xn))/20]\n",
    "guessv2 = [param[0], param[1], 1, param[2]*20]\n",
    "guessv3 = [1,2.68e-10, (max(xn)-min(xn)),(max(xn)-min(xn))]\n",
    "\n",
    "paramv, covv = curve_fit(voigt_profile,xn,y,p0=guessv2, sigma=yerr, absolute_sigma=True)\n",
    "\n",
    "covvn = np.sqrt(np.diagonal(covv))\n",
    "\n",
    "xv_ = np.linspace(xn[0]-xerrn[0],xn[-1]+xerrn[-1],200)\n",
    "yv_ = voigt_profile(x_,*paramv)\n",
    "\n",
    "print(param[1])\n",
    "\n",
    "fig, axs = plt.subplots(2, 1, figsize=(15,7.5), gridspec_kw={'height_ratios': [3, 1], 'hspace': 0, 'wspace': 0.15})\n",
    "\n",
    "fig.suptitle('Intensidad vs Longitud de onda', fontsize=20)\n",
    "\n",
    "#axs[0,2].scatter(xn,y)\n",
    "\n",
    "#Ajuste lorentziano\n",
    "\n",
    "x0 = param[1]\n",
    "error = covn[1]\n",
    "\n",
    "exponente = np.floor(np.log10(x0))  # Encuentra el exponente más grande\n",
    "x0_mant = x0 / 10**exponente\n",
    "error_mant = error / 10**exponente\n",
    "\n",
    "axs[0].errorbar(xnl, yl, xerr=xerrnl, yerr=yerrl, fmt='o', label='Pico #3', capsize=3)\n",
    "axs[0].axvline(param[1],color='g', linestyle='--', label=f\"$x_0 = ({x0_mant:.5f} \\\\pm {error_mant:.5f}) \\\\times 10^{{{int(exponente)}}}$\")\n",
    "axs[0].yaxis.set_major_formatter(ti.ScalarFormatter(useMathText=True))\n",
    "axs[0].ticklabel_format(axis='y', style='sci', scilimits=(0, 0))\n",
    "axs[0].yaxis.get_offset_text().set_fontsize(8) \n",
    "axs[0].plot(x_, y_, label='Ajuste Lonrentziano', color='red')\n",
    "axs[0].set_ylabel('Intensidad (imp/s)')\n",
    "axs[0].legend(fontsize=8)\n",
    "\n",
    "res = yl - lorentzian(xnl,*param) / yerrl\n",
    "\n",
    "axs[1].scatter(xnl, res, color='black', marker='x')\n",
    "axs[1].axhline(0, color='black', linestyle='--')\n",
    "axs[1].yaxis.set_major_formatter(ti.ScalarFormatter(useMathText=True))\n",
    "axs[1].ticklabel_format(axis='y', style='sci', scilimits=(0, 0))\n",
    "axs[1].yaxis.get_offset_text().set_fontsize(8)\n",
    "axs[1].set_xlabel('Longitud de onda (m)')\n",
    "axs[1].set_ylabel('Residuales\\n normalizados')"
   ]
  }
 ],
 "metadata": {
  "kernelspec": {
   "display_name": "Python 3",
   "language": "python",
   "name": "python3"
  },
  "language_info": {
   "codemirror_mode": {
    "name": "ipython",
    "version": 3
   },
   "file_extension": ".py",
   "mimetype": "text/x-python",
   "name": "python",
   "nbconvert_exporter": "python",
   "pygments_lexer": "ipython3",
   "version": "3.12.10"
  }
 },
 "nbformat": 4,
 "nbformat_minor": 5
}
