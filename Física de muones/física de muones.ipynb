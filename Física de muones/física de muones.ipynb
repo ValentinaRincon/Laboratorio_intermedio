{
 "cells": [
  {
   "cell_type": "markdown",
   "metadata": {},
   "source": [
    "Librerías"
   ]
  },
  {
   "cell_type": "code",
   "execution_count": null,
   "metadata": {},
   "outputs": [],
   "source": [
    "import matplotlib.pyplot as plt\n",
    "import matplotlib.gridspec as grd\n",
    "import csv\n",
    "import numpy as np\n",
    "from scipy.optimize import curve_fit"
   ]
  },
  {
   "cell_type": "markdown",
   "metadata": {},
   "source": [
    "Carga de datos"
   ]
  },
  {
   "cell_type": "code",
   "execution_count": null,
   "metadata": {},
   "outputs": [],
   "source": [
    "archivo = \"archivo_1.data\"\n",
    "archivo2 = \"archivo_2.data\""
   ]
  },
  {
   "cell_type": "markdown",
   "metadata": {},
   "source": [
    "Lectura de archivos"
   ]
  },
  {
   "cell_type": "code",
   "execution_count": null,
   "metadata": {},
   "outputs": [],
   "source": [
    "def read_data(path):\n",
    "    with open(path, 'r') as file:\n",
    "        data = [int(line.split(' ')[0]) for line in file]\n",
    "    return data\n",
    "  \n",
    "datos = read_data(archivo)\n",
    "datos2 = read_data(archivo2)\n",
    "\n",
    "datosn = [d for d in datos if 80 <= d <= 20000]\n",
    "datosn2 =[d for d in datos2 if 80 <= d <= 20000]"
   ]
  },
  {
   "cell_type": "markdown",
   "metadata": {},
   "source": [
    "Ajuste"
   ]
  },
  {
   "cell_type": "code",
   "execution_count": null,
   "metadata": {},
   "outputs": [],
   "source": [
    "def exponentialfit(x, A, T):\n",
    "    return A * np.exp(-x / T)  "
   ]
  },
  {
   "cell_type": "markdown",
   "metadata": {},
   "source": [
    "Ocurrencias"
   ]
  },
  {
   "cell_type": "code",
   "execution_count": null,
   "metadata": {},
   "outputs": [],
   "source": [
    "valores_unicos, ocurrencias = np.unique(datosn, return_counts=True)\n",
    "valores_unicos2 , ocurrencias2 = np.unique(datosn2, return_counts=True)"
   ]
  },
  {
   "cell_type": "markdown",
   "metadata": {},
   "source": [
    "Contenedor de datos"
   ]
  },
  {
   "cell_type": "code",
   "execution_count": null,
   "metadata": {},
   "outputs": [],
   "source": [
    "num_bins = 20\n",
    "bins = np.linspace(0, 20000, num_bins + 1)\n",
    "bin_indices = np.digitize(datosn, bins) - 1\n",
    "bin_indices = np.clip(bin_indices, 0, num_bins - 1)\n",
    "bin_indices2 = np.digitize(datosn2, bins) - 1\n",
    "bin_indices2 = np.clip(bin_indices2, 0, num_bins - 1)\n",
    "\n",
    "conteo_por_bin = np.bincount(bin_indices, minlength=num_bins)\n",
    "suma_por_bin = np.bincount(bin_indices, weights=datosn, minlength=num_bins)\n",
    "promedio_por_bin = np.divide(suma_por_bin, conteo_por_bin, where=conteo_por_bin > 0)\n",
    "\n",
    "conteo_por_bin2 = np.bincount(bin_indices2, minlength=num_bins)\n",
    "suma_por_bin2 = np.bincount(bin_indices2, weights=datosn2, minlength=num_bins)\n",
    "promedio_por_bin2 = np.divide(suma_por_bin2,conteo_por_bin2, where=conteo_por_bin2 > 0)"
   ]
  },
  {
   "cell_type": "markdown",
   "metadata": {},
   "source": [
    "Gráfica y análisis"
   ]
  },
  {
   "cell_type": "code",
   "execution_count": null,
   "metadata": {},
   "outputs": [],
   "source": [
    "y = (bins[:-1] + bins[1:]) / 2\n",
    "error_x = np.full(num_bins, (bins[1] - bins[0]) / 2)\n",
    "\n",
    "mask = conteo_por_bin > 0\n",
    "mask2 = conteo_por_bin2 > 0\n",
    "guess = [10, 2000]\n",
    "param, cov = curve_fit(exponentialfit, y[mask], conteo_por_bin[mask], p0=guess)\n",
    "param2 , cov2 = curve_fit(exponentialfit,y[mask2], conteo_por_bin2[mask2], p0=guess)\n",
    "\n",
    "residuales_1 = (conteo_por_bin - exponentialfit(y, param[0], param[1])) / np.sqrt(conteo_por_bin)\n",
    "residuales_2 = (conteo_por_bin2 - exponentialfit(y, param2[0], param2[1])) / np.sqrt(conteo_por_bin2)\n",
    "\n",
    "print(param, cov)\n",
    "\n",
    "x_ = np.linspace(0, 20000, 100)\n",
    "y_ = exponentialfit(x_, param[0], param[1])\n",
    "y_2 = exponentialfit(x_, param2[0], param2[1])\n",
    "\n",
    "fig = plt.figure(figsize=(10,5))\n",
    "gs = grd.GridSpec(5, 3, height_ratios=[1, 1, 0.4, 1, 1], width_ratios=[1, 0.001, 2], hspace=0, wspace=0.5)\n",
    "\n",
    "ax1 = plt.subplot(gs[:2, 0])\n",
    "ax2 = plt.subplot(gs[-2:,0])\n",
    "\n",
    "ax3 = plt.subplot(gs[0,2])\n",
    "ax4 = plt.subplot(gs[1,2])\n",
    "ax5 = plt.subplot(gs[3,2])\n",
    "ax6 = plt.subplot(gs[4,2])\n",
    "\n",
    "ax1.scatter(valores_unicos, ocurrencias,alpha=0.5,color='b', label='Raw Data')\n",
    "ax1.set_ylabel(\"Toma de datos 1\", color='b')\n",
    "ax1.set_title(\"Tiempo vs Numero de decaimientos\")\n",
    "\n",
    "ax1.legend(loc='upper right')\n",
    "\n",
    "ax2.scatter(valores_unicos2, ocurrencias2,alpha=0.5,color='b', label='Raw Data 2')\n",
    "ax2.set_ylabel(\"Toma de datos 2\", color='b')\n",
    "\n",
    "ax2.legend(loc='upper right')\n",
    "\n",
    "param_text = f\"A = {param[0]:.2f}, T = {param[1]:.2f}\"\n",
    "ax3.plot(x_, y_, label=f\"Ajuste exponencial,\\n{param_text}\", color=\"black\")\n",
    "ax3.errorbar(y, conteo_por_bin, xerr=error_x, fmt='o', color='r', capsize=5, label=\"Valor promedio con error en X\")\n",
    "\n",
    "ax3.set_ylabel(\"Toma\\ndatos 1\", color='r')\n",
    "ax3.set_title(\"Tiempo vs Decaiminetos por bin\")\n",
    "\n",
    "ax3.legend(loc=\"upper right\")\n",
    "\n",
    "ax4.scatter(y, residuales_1, color='g', marker='x')\n",
    "ax4.axhline(0, color='gray', linestyle='--')  # Línea base en y = 0\n",
    "ax4.set_ylabel(\"Residuales\\nNormalizados\", rotation=90)\n",
    "ax4.legend(loc=\"upper right\")\n",
    "\n",
    "param_text2 = f\"A = {param2[0]:.2f}, T = {param2[1]:.2f}\"\n",
    "ax5.plot(x_, y_2 , label=f\"Ajuste exponencial 2,\\n{param_text2}\", color='black')\n",
    "ax5.errorbar(y, conteo_por_bin2, xerr=error_x, fmt=\"o\", color=\"r\", capsize=5, label=\"Valor promedio con error en X 2\")\n",
    "\n",
    "ax5.set_xlabel(\"Tiempo (ns)\")\n",
    "ax5.set_ylabel(\"Toma\\ndatos 2\", color='r')\n",
    "\n",
    "ax5.legend(loc=\"upper right\")\n",
    "\n",
    "ax6.scatter(y, residuales_2, color='g', marker='x')\n",
    "ax6.axhline(0, color='gray', linestyle='--')  # Línea base en y = 0\n",
    "ax6.set_ylabel(\"Residuales\\nNormalizados\", rotation=90)\n",
    "ax6.set_xlabel(\"Tiempo (ns)\")\n",
    "ax6.legend(loc=\"upper right\")\n",
    "\n",
    "plt.show()"
   ]
  }
 ],
 "metadata": {
  "language_info": {
   "name": "python"
  }
 },
 "nbformat": 4,
 "nbformat_minor": 2
}
